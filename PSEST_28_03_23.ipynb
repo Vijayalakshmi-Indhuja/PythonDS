{
  "nbformat": 4,
  "nbformat_minor": 0,
  "metadata": {
    "colab": {
      "provenance": [],
      "include_colab_link": true
    },
    "kernelspec": {
      "name": "python3",
      "display_name": "Python 3"
    },
    "language_info": {
      "name": "python"
    }
  },
  "cells": [
    {
      "cell_type": "markdown",
      "metadata": {
        "id": "view-in-github",
        "colab_type": "text"
      },
      "source": [
        "<a href=\"https://colab.research.google.com/github/Vijayalakshmi-Indhuja/PythonDS/blob/main/PSEST_28_03_23.ipynb\" target=\"_parent\"><img src=\"https://colab.research.google.com/assets/colab-badge.svg\" alt=\"Open In Colab\"/></a>"
      ]
    },
    {
      "cell_type": "markdown",
      "source": [
        "#PSES 28/03/23\n",
        "\n",
        "Day 1\n",
        "\n",
        "1. why python ?\n",
        "2. Hello World\n",
        "3. Variables\n",
        "4. Data Types\n",
        "5. Data Structures\n",
        "\n",
        "Day 2\n",
        "\n",
        "5. Data Structures\n",
        "\n",
        "Day 3\n",
        "6. Arithmatic operators\n",
        "7. COndtional operators\n",
        "8. Conditional Statements\n",
        "9. Loops"
      ],
      "metadata": {
        "id": "TUM8NErX1JMR"
      }
    },
    {
      "cell_type": "code",
      "execution_count": null,
      "metadata": {
        "colab": {
          "base_uri": "https://localhost:8080/"
        },
        "id": "wkqANsPg0xuC",
        "outputId": "02f20c07-312f-4cd3-96f9-27a6a24b5580"
      },
      "outputs": [
        {
          "output_type": "stream",
          "name": "stdout",
          "text": [
            "Hello World\n"
          ]
        }
      ],
      "source": [
        "print('Hello World')"
      ]
    },
    {
      "cell_type": "code",
      "source": [
        "print('Karthick')"
      ],
      "metadata": {
        "colab": {
          "base_uri": "https://localhost:8080/"
        },
        "id": "4E_FELaW16yt",
        "outputId": "32ef1820-6610-496a-8c92-d4675c8b8f06"
      },
      "execution_count": null,
      "outputs": [
        {
          "output_type": "stream",
          "name": "stdout",
          "text": [
            "Karthick\n"
          ]
        }
      ]
    },
    {
      "cell_type": "code",
      "source": [
        "print('Welcome to Data Science World !! ')"
      ],
      "metadata": {
        "colab": {
          "base_uri": "https://localhost:8080/"
        },
        "id": "k1teaCzK18bo",
        "outputId": "13c45010-c1ad-4b9d-c7cb-3e85c06ecd71"
      },
      "execution_count": null,
      "outputs": [
        {
          "output_type": "stream",
          "name": "stdout",
          "text": [
            "Welcome to Data Science World !! \n"
          ]
        }
      ]
    },
    {
      "cell_type": "code",
      "source": [
        "print(1000)"
      ],
      "metadata": {
        "colab": {
          "base_uri": "https://localhost:8080/"
        },
        "id": "PdBXLVQU2BiM",
        "outputId": "f852bc43-70c1-4e0c-e03f-b8d932302e87"
      },
      "execution_count": null,
      "outputs": [
        {
          "output_type": "stream",
          "name": "stdout",
          "text": [
            "1000\n"
          ]
        }
      ]
    },
    {
      "cell_type": "code",
      "source": [
        "print(25.5)"
      ],
      "metadata": {
        "colab": {
          "base_uri": "https://localhost:8080/"
        },
        "id": "luVOqS4u2H5T",
        "outputId": "f85f95f9-f315-4b78-e31f-66bcd9a828e2"
      },
      "execution_count": null,
      "outputs": [
        {
          "output_type": "stream",
          "name": "stdout",
          "text": [
            "25.5\n"
          ]
        }
      ]
    },
    {
      "cell_type": "markdown",
      "source": [
        "#Variables\n",
        "Creating Variables"
      ],
      "metadata": {
        "id": "P5VZcA4M2dgT"
      }
    },
    {
      "cell_type": "code",
      "source": [
        "x = 10"
      ],
      "metadata": {
        "id": "reEanRRx2aYz"
      },
      "execution_count": null,
      "outputs": []
    },
    {
      "cell_type": "markdown",
      "source": [
        "1. Variable name can start with any case (upper or lower)\n",
        "2. Variable name should not start with numbers\n",
        "3. Variable name should not have space\n",
        "4. Variable name should not contain spcl characters\n",
        "5. variable name should not be a key word"
      ],
      "metadata": {
        "id": "btw4nzn03U5k"
      }
    },
    {
      "cell_type": "code",
      "source": [
        "Name = 'Kamal'\n",
        "\n",
        "name = 'Hassan'\n",
        "\n",
        "Name_1st = 'Rajini'\n",
        "\n",
        "Second_Name = 'Kanth'\n",
        "\n",
        "Second_First = 'Rajini Kanth'\n",
        "\n"
      ],
      "metadata": {
        "id": "b_Vnd2I03K7k"
      },
      "execution_count": null,
      "outputs": []
    },
    {
      "cell_type": "code",
      "source": [
        "print(Second_First)"
      ],
      "metadata": {
        "colab": {
          "base_uri": "https://localhost:8080/"
        },
        "id": "RYvRa_UA3fO0",
        "outputId": "9e2c8a08-3b9f-4d1c-ae0f-021d71e3bc6a"
      },
      "execution_count": null,
      "outputs": [
        {
          "output_type": "stream",
          "name": "stdout",
          "text": [
            "Rajini Kanth\n"
          ]
        }
      ]
    },
    {
      "cell_type": "markdown",
      "source": [
        "#Data Types\n",
        "\n",
        "1. int\n",
        "2. float\n",
        "3. str\n",
        "4. bool"
      ],
      "metadata": {
        "id": "se-V0l4R6Ths"
      }
    },
    {
      "cell_type": "code",
      "source": [
        "#int - mobile no, pincode, door no, age, account no\n",
        "#float - temp, bill, percnetage, marks, height, weight, timing\n",
        "#str - address, name, mail id, password, pan card no\n",
        "#bool - in/out, up/down, right/left, push/pull, start/stop, head/tail\n",
        "\n",
        "kamal = 65\n",
        "\n",
        "number = 100 #int\n",
        "\n",
        "weight = 77.5 #float\n",
        "\n",
        "name = 'Kamal' #str\n",
        "\n",
        "Name = \"Rajini\" #str\n",
        "\n",
        "name = 'kamal' #str\n",
        "\n",
        "Switch_on = True\n",
        "\n",
        "Switch_Off = False\n",
        "\n",
        "\n",
        "Number = '100' #str\n",
        "\n"
      ],
      "metadata": {
        "id": "ZBCAsxXv3yBu"
      },
      "execution_count": null,
      "outputs": []
    },
    {
      "cell_type": "markdown",
      "source": [
        "#Typecasting"
      ],
      "metadata": {
        "id": "eCk_ZHc4ALrz"
      }
    },
    {
      "cell_type": "code",
      "source": [
        "b = float(number)\n",
        "\n",
        "print(b)"
      ],
      "metadata": {
        "colab": {
          "base_uri": "https://localhost:8080/"
        },
        "id": "zdMyPaUaA4LS",
        "outputId": "67476aa0-4d30-4f8a-de8b-cee2c049be20"
      },
      "execution_count": null,
      "outputs": [
        {
          "output_type": "stream",
          "name": "stdout",
          "text": [
            "100.0\n"
          ]
        }
      ]
    },
    {
      "cell_type": "code",
      "source": [
        "c = str(number)\n",
        "\n",
        "print(c)\n",
        "print(type(c))"
      ],
      "metadata": {
        "colab": {
          "base_uri": "https://localhost:8080/"
        },
        "id": "vESWSDMyA_-S",
        "outputId": "2075e1d7-c5fe-4627-add5-0528790acc01"
      },
      "execution_count": null,
      "outputs": [
        {
          "output_type": "stream",
          "name": "stdout",
          "text": [
            "100\n",
            "<class 'str'>\n"
          ]
        }
      ]
    },
    {
      "cell_type": "code",
      "source": [
        "d = int(name)\n",
        "\n",
        "print(d)"
      ],
      "metadata": {
        "colab": {
          "base_uri": "https://localhost:8080/",
          "height": 201
        },
        "id": "vwAGRpJrBRzV",
        "outputId": "7b705910-7edb-402c-d097-773dc62a7a85"
      },
      "execution_count": null,
      "outputs": [
        {
          "output_type": "error",
          "ename": "ValueError",
          "evalue": "ignored",
          "traceback": [
            "\u001b[0;31m---------------------------------------------------------------------------\u001b[0m",
            "\u001b[0;31mValueError\u001b[0m                                Traceback (most recent call last)",
            "\u001b[0;32m<ipython-input-55-aebc0f7ad06d>\u001b[0m in \u001b[0;36m<module>\u001b[0;34m\u001b[0m\n\u001b[0;32m----> 1\u001b[0;31m \u001b[0md\u001b[0m \u001b[0;34m=\u001b[0m \u001b[0mint\u001b[0m\u001b[0;34m(\u001b[0m\u001b[0mname\u001b[0m\u001b[0;34m)\u001b[0m\u001b[0;34m\u001b[0m\u001b[0;34m\u001b[0m\u001b[0m\n\u001b[0m\u001b[1;32m      2\u001b[0m \u001b[0;34m\u001b[0m\u001b[0m\n\u001b[1;32m      3\u001b[0m \u001b[0mprint\u001b[0m\u001b[0;34m(\u001b[0m\u001b[0md\u001b[0m\u001b[0;34m)\u001b[0m\u001b[0;34m\u001b[0m\u001b[0;34m\u001b[0m\u001b[0m\n",
            "\u001b[0;31mValueError\u001b[0m: invalid literal for int() with base 10: 'kamal'"
          ]
        }
      ]
    },
    {
      "cell_type": "code",
      "source": [
        "a = float(Number)\n",
        "print(a)\n",
        "print(type(a))"
      ],
      "metadata": {
        "colab": {
          "base_uri": "https://localhost:8080/"
        },
        "id": "HKvRMTcnAJoI",
        "outputId": "fcb4b246-eb86-44d5-87f0-d226be5588a9"
      },
      "execution_count": null,
      "outputs": [
        {
          "output_type": "stream",
          "name": "stdout",
          "text": [
            "100.0\n",
            "<class 'float'>\n"
          ]
        }
      ]
    },
    {
      "cell_type": "markdown",
      "source": [
        "#type() - will find datatypes of a variable"
      ],
      "metadata": {
        "id": "4F5MvGDa771q"
      }
    },
    {
      "cell_type": "code",
      "source": [
        "print(type(Switch_on))"
      ],
      "metadata": {
        "colab": {
          "base_uri": "https://localhost:8080/"
        },
        "id": "ZhiRj_Su-QOr",
        "outputId": "c1e55f7e-4dcc-4277-929d-4075356c4c9c"
      },
      "execution_count": null,
      "outputs": [
        {
          "output_type": "stream",
          "name": "stdout",
          "text": [
            "<class 'bool'>\n"
          ]
        }
      ]
    },
    {
      "cell_type": "code",
      "source": [
        "print(type(name))"
      ],
      "metadata": {
        "colab": {
          "base_uri": "https://localhost:8080/"
        },
        "id": "1W8NtS6I9KGX",
        "outputId": "ac73c4e7-9952-4c9d-fa44-794f686cc2ae"
      },
      "execution_count": null,
      "outputs": [
        {
          "output_type": "stream",
          "name": "stdout",
          "text": [
            "<class 'str'>\n"
          ]
        }
      ]
    },
    {
      "cell_type": "code",
      "source": [
        "print(type(weight))"
      ],
      "metadata": {
        "colab": {
          "base_uri": "https://localhost:8080/"
        },
        "id": "ElI43lai8dTj",
        "outputId": "8cc67ca9-6bc4-4ce5-ba26-b3c34c199600"
      },
      "execution_count": null,
      "outputs": [
        {
          "output_type": "stream",
          "name": "stdout",
          "text": [
            "<class 'float'>\n"
          ]
        }
      ]
    },
    {
      "cell_type": "code",
      "source": [
        "print(number)"
      ],
      "metadata": {
        "colab": {
          "base_uri": "https://localhost:8080/"
        },
        "id": "7-QQbrdM7vPA",
        "outputId": "fac34735-fe90-4112-8156-46734ca30efc"
      },
      "execution_count": null,
      "outputs": [
        {
          "output_type": "stream",
          "name": "stdout",
          "text": [
            "100\n"
          ]
        }
      ]
    },
    {
      "cell_type": "code",
      "source": [
        "print(type(number))"
      ],
      "metadata": {
        "colab": {
          "base_uri": "https://localhost:8080/"
        },
        "id": "KT5JIHcs7yE6",
        "outputId": "b03e555d-409c-4630-f787-93918a4341ea"
      },
      "execution_count": null,
      "outputs": [
        {
          "output_type": "stream",
          "name": "stdout",
          "text": [
            "<class 'int'>\n"
          ]
        }
      ]
    },
    {
      "cell_type": "code",
      "source": [
        "e = '100.4'\n",
        "\n",
        "print(int(float(e)))"
      ],
      "metadata": {
        "colab": {
          "base_uri": "https://localhost:8080/"
        },
        "id": "_P72jYkY8IEN",
        "outputId": "29502ad6-0a4a-41bf-e5a1-9032fb0db5f1"
      },
      "execution_count": null,
      "outputs": [
        {
          "output_type": "stream",
          "name": "stdout",
          "text": [
            "100\n"
          ]
        }
      ]
    },
    {
      "cell_type": "markdown",
      "source": [
        "#Data Structures"
      ],
      "metadata": {
        "id": "QhmwwyM0Ctro"
      }
    },
    {
      "cell_type": "markdown",
      "source": [
        "1. List - [ ] \n",
        "2. Tuple\n",
        "3. Set\n",
        "4. Dictionary"
      ],
      "metadata": {
        "id": "APmMdB-WD7ZF"
      }
    },
    {
      "cell_type": "markdown",
      "source": [
        "# List - [ ] \n",
        "1. List can contain multiple datatypes\n",
        "2. list is ordered\n",
        "3. List elements can be accessed by using index no\n",
        "4. list elements can be changed by item assignment\n",
        "5. list supports nested list\n",
        "6. List can contain duplicate values"
      ],
      "metadata": {
        "id": "cE-Bkn5DExV9"
      }
    },
    {
      "cell_type": "code",
      "source": [
        "person_detail = [ 'name', 23456123 ,9457896123, 'karthick@gmail.com','chennai', 'ifsc', 'branch','photo', 10000.50 , True, 'name','name' ]\n",
        "\n",
        "person  = [[ 'name', 23456123 ,9457896123, 'karthick@gmail.com','chennai', 'ifsc', 'branch','photo', 10000.50 , True ] ,\n",
        "                  [ 'name', 23456123 ,9457896123, 'ram@gmail.com','chennai', 'ifsc', 'branch','photo', 10000.50 , True ],\n",
        "                  [ 'name', 23456123 ,9457896123, 'praveen@gmail.com','chennai', 'ifsc', 'branch','photo', 10000.50 , [100,200,300] ]]"
      ],
      "metadata": {
        "id": "6daTc5rLBx5j"
      },
      "execution_count": null,
      "outputs": []
    },
    {
      "cell_type": "code",
      "source": [
        "person[1][3]"
      ],
      "metadata": {
        "colab": {
          "base_uri": "https://localhost:8080/",
          "height": 35
        },
        "id": "LzdE_0RV9Kio",
        "outputId": "9ca54e5b-d0df-401b-a1d2-4e1d24d25265"
      },
      "execution_count": null,
      "outputs": [
        {
          "output_type": "execute_result",
          "data": {
            "text/plain": [
              "'ram@gmail.com'"
            ],
            "application/vnd.google.colaboratory.intrinsic+json": {
              "type": "string"
            }
          },
          "metadata": {},
          "execution_count": 17
        }
      ]
    },
    {
      "cell_type": "code",
      "source": [
        "person_detail"
      ],
      "metadata": {
        "colab": {
          "base_uri": "https://localhost:8080/"
        },
        "id": "gqhIoQujNIUx",
        "outputId": "c664e220-77a1-4091-8d12-712bd66c047a"
      },
      "execution_count": null,
      "outputs": [
        {
          "output_type": "execute_result",
          "data": {
            "text/plain": [
              "['name',\n",
              " 23456123,\n",
              " 9457896123,\n",
              " 'karthick@gmail.com',\n",
              " 'chennai',\n",
              " 'ifsc',\n",
              " 'branch',\n",
              " 'photo',\n",
              " 10000.5,\n",
              " True,\n",
              " 'name',\n",
              " 'name']"
            ]
          },
          "metadata": {},
          "execution_count": 3
        }
      ]
    },
    {
      "cell_type": "code",
      "source": [
        "person[1][3]"
      ],
      "metadata": {
        "colab": {
          "base_uri": "https://localhost:8080/",
          "height": 35
        },
        "id": "Y2HEdL8bLSe0",
        "outputId": "1fc5b339-1376-47be-af50-51a5034c5cfa"
      },
      "execution_count": null,
      "outputs": [
        {
          "output_type": "execute_result",
          "data": {
            "text/plain": [
              "'ram@gmail.com'"
            ],
            "application/vnd.google.colaboratory.intrinsic+json": {
              "type": "string"
            }
          },
          "metadata": {},
          "execution_count": 4
        }
      ]
    },
    {
      "cell_type": "code",
      "source": [
        "person[2][7]"
      ],
      "metadata": {
        "colab": {
          "base_uri": "https://localhost:8080/",
          "height": 35
        },
        "id": "r-11CLikME5c",
        "outputId": "1b333de3-00ff-4496-d738-1fdb7ec9cf38"
      },
      "execution_count": null,
      "outputs": [
        {
          "output_type": "execute_result",
          "data": {
            "text/plain": [
              "'photo'"
            ],
            "application/vnd.google.colaboratory.intrinsic+json": {
              "type": "string"
            }
          },
          "metadata": {},
          "execution_count": 5
        }
      ]
    },
    {
      "cell_type": "code",
      "source": [
        "person[2][9][2]"
      ],
      "metadata": {
        "colab": {
          "base_uri": "https://localhost:8080/"
        },
        "id": "eBoG78ViMSz0",
        "outputId": "5011987a-fd66-45fa-8269-a7770cde62d4"
      },
      "execution_count": null,
      "outputs": [
        {
          "output_type": "execute_result",
          "data": {
            "text/plain": [
              "300"
            ]
          },
          "metadata": {},
          "execution_count": 6
        }
      ]
    },
    {
      "cell_type": "code",
      "source": [
        "len(person)"
      ],
      "metadata": {
        "colab": {
          "base_uri": "https://localhost:8080/"
        },
        "id": "Jmv5lfoeKKuy",
        "outputId": "bf23c73b-4636-4f95-8ada-20137ade1b72"
      },
      "execution_count": null,
      "outputs": [
        {
          "output_type": "execute_result",
          "data": {
            "text/plain": [
              "3"
            ]
          },
          "metadata": {},
          "execution_count": 7
        }
      ]
    },
    {
      "cell_type": "code",
      "source": [
        "print(person_detail)"
      ],
      "metadata": {
        "colab": {
          "base_uri": "https://localhost:8080/"
        },
        "id": "O5a2TlECEwFC",
        "outputId": "c58a3e43-9f48-4a7f-c746-79a18ad8ba39"
      },
      "execution_count": null,
      "outputs": [
        {
          "output_type": "stream",
          "name": "stdout",
          "text": [
            "['name', 23456123, 9457896123, 'karthick@gmail.com', 'chennai', 'ifsc', 'branch', 'photo', 10000.5, True, 'name', 'name']\n"
          ]
        }
      ]
    },
    {
      "cell_type": "markdown",
      "source": [
        "#len(variable_name) "
      ],
      "metadata": {
        "id": "YQLCKRZMGplL"
      }
    },
    {
      "cell_type": "code",
      "source": [
        "print(len(person_detail))"
      ],
      "metadata": {
        "colab": {
          "base_uri": "https://localhost:8080/"
        },
        "id": "BCUKoE2cFHxA",
        "outputId": "83d98272-6d9c-45b0-bc9c-278c2a3ff816"
      },
      "execution_count": null,
      "outputs": [
        {
          "output_type": "stream",
          "name": "stdout",
          "text": [
            "12\n"
          ]
        }
      ]
    },
    {
      "cell_type": "markdown",
      "source": [
        "#taking or accessing the values from datastructures\n",
        "\n",
        "#variable_name[index_no]"
      ],
      "metadata": {
        "id": "5TYMrgInHQzs"
      }
    },
    {
      "cell_type": "code",
      "source": [
        "print(person_detail[6])"
      ],
      "metadata": {
        "colab": {
          "base_uri": "https://localhost:8080/"
        },
        "id": "6VQ11NFFHebr",
        "outputId": "5bb29a5f-1ab2-4ad0-889b-f2ee2e7241ac"
      },
      "execution_count": null,
      "outputs": [
        {
          "output_type": "stream",
          "name": "stdout",
          "text": [
            "branch\n"
          ]
        }
      ]
    },
    {
      "cell_type": "code",
      "source": [
        "print(person_detail[3])"
      ],
      "metadata": {
        "colab": {
          "base_uri": "https://localhost:8080/"
        },
        "id": "tvyT_N-CGyu0",
        "outputId": "c4e7b4b4-fcdc-4d67-dc4b-7d67b7cd0526"
      },
      "execution_count": null,
      "outputs": [
        {
          "output_type": "stream",
          "name": "stdout",
          "text": [
            "karthick@gmail.com\n"
          ]
        }
      ]
    },
    {
      "cell_type": "code",
      "source": [
        "person_detail"
      ],
      "metadata": {
        "colab": {
          "base_uri": "https://localhost:8080/"
        },
        "id": "zU2o2NI1Haq7",
        "outputId": "90f9fb8b-c65c-449b-ff54-afcd1ae60ee6"
      },
      "execution_count": null,
      "outputs": [
        {
          "output_type": "execute_result",
          "data": {
            "text/plain": [
              "['name',\n",
              " 23456123,\n",
              " 9457896123,\n",
              " 'karthick@gmail.com',\n",
              " 'chennai',\n",
              " 'ifsc',\n",
              " 'branch',\n",
              " 'photo',\n",
              " 10000.5,\n",
              " True,\n",
              " 'name',\n",
              " 'name']"
            ]
          },
          "metadata": {},
          "execution_count": 12
        }
      ]
    },
    {
      "cell_type": "markdown",
      "source": [
        "**Item Assignment**"
      ],
      "metadata": {
        "id": "8QYNrP6JJDcy"
      }
    },
    {
      "cell_type": "code",
      "source": [
        "person_detail[8] = 5000.5"
      ],
      "metadata": {
        "id": "dS3bid4eI2q9"
      },
      "execution_count": null,
      "outputs": []
    },
    {
      "cell_type": "code",
      "source": [
        "person_detail"
      ],
      "metadata": {
        "colab": {
          "base_uri": "https://localhost:8080/"
        },
        "id": "Dt6VSK6NJNFq",
        "outputId": "831b239f-00af-48ad-d9af-2800151c1e47"
      },
      "execution_count": null,
      "outputs": [
        {
          "output_type": "execute_result",
          "data": {
            "text/plain": [
              "['name',\n",
              " 23456123,\n",
              " 9457896123,\n",
              " 'karthick@gmail.com',\n",
              " 'chennai',\n",
              " 'ifsc',\n",
              " 'branch',\n",
              " 'photo',\n",
              " 5000.5,\n",
              " True,\n",
              " 'name',\n",
              " 'name']"
            ]
          },
          "metadata": {},
          "execution_count": 14
        }
      ]
    },
    {
      "cell_type": "code",
      "source": [
        "person_detail[0] = \"karthick\""
      ],
      "metadata": {
        "id": "VGWi5logJUim"
      },
      "execution_count": null,
      "outputs": []
    },
    {
      "cell_type": "code",
      "source": [
        "person_detail"
      ],
      "metadata": {
        "colab": {
          "base_uri": "https://localhost:8080/"
        },
        "id": "JygQDAB1JoDl",
        "outputId": "a25eab32-dee0-49ca-fcc3-7202d084fa28"
      },
      "execution_count": null,
      "outputs": [
        {
          "output_type": "execute_result",
          "data": {
            "text/plain": [
              "['karthick',\n",
              " 23456123,\n",
              " 9457896123,\n",
              " 'karthick@gmail.com',\n",
              " 'chennai',\n",
              " 'ifsc',\n",
              " 'branch',\n",
              " 'photo',\n",
              " 5000.5,\n",
              " True,\n",
              " 'name',\n",
              " 'name']"
            ]
          },
          "metadata": {},
          "execution_count": 16
        }
      ]
    },
    {
      "cell_type": "markdown",
      "source": [
        "#Slicing"
      ],
      "metadata": {
        "id": "_2m7KDZ29cwx"
      }
    },
    {
      "cell_type": "code",
      "source": [
        "person_detail = [ 'karthick', 23456123 ,9457896123, 'karthick@gmail.com','chennai', 'ifsc', 'branch','photo', 10000.50 , True, 'name','name',\n",
        "                 (100,200,300) ]"
      ],
      "metadata": {
        "id": "09lWNjSd_H0C"
      },
      "execution_count": null,
      "outputs": []
    },
    {
      "cell_type": "code",
      "source": [
        "person_detail.index('photo')"
      ],
      "metadata": {
        "colab": {
          "base_uri": "https://localhost:8080/"
        },
        "id": "KwqSH2iSFvgI",
        "outputId": "cba019d6-9148-4ae0-ad36-13c29999f551"
      },
      "execution_count": null,
      "outputs": [
        {
          "output_type": "execute_result",
          "data": {
            "text/plain": [
              "7"
            ]
          },
          "metadata": {},
          "execution_count": 56
        }
      ]
    },
    {
      "cell_type": "code",
      "source": [
        "person_detail[0:4] #variable_name[ start_index_no : End_value_index_no + 1 : skip_value ]"
      ],
      "metadata": {
        "id": "7xuTn86vJshX",
        "colab": {
          "base_uri": "https://localhost:8080/"
        },
        "outputId": "b0865907-ddde-4fdc-9221-8fe743416589"
      },
      "execution_count": null,
      "outputs": [
        {
          "output_type": "execute_result",
          "data": {
            "text/plain": [
              "['karthick', 23456123, 9457896123, 'karthick@gmail.com']"
            ]
          },
          "metadata": {},
          "execution_count": 19
        }
      ]
    },
    {
      "cell_type": "code",
      "source": [
        "person_detail[4 : 10 ]"
      ],
      "metadata": {
        "colab": {
          "base_uri": "https://localhost:8080/"
        },
        "id": "tT5QTsBy94Cd",
        "outputId": "b2419cd2-090d-45a9-bbd7-50cb9bed46a6"
      },
      "execution_count": null,
      "outputs": [
        {
          "output_type": "execute_result",
          "data": {
            "text/plain": [
              "['chennai', 'branch', 5000.5]"
            ]
          },
          "metadata": {},
          "execution_count": 21
        }
      ]
    },
    {
      "cell_type": "code",
      "source": [
        "print(person_detail)"
      ],
      "metadata": {
        "colab": {
          "base_uri": "https://localhost:8080/"
        },
        "id": "LF1yy7hC-Wxv",
        "outputId": "d3c10ff6-25ac-40d9-c72d-c9e48d210717"
      },
      "execution_count": null,
      "outputs": [
        {
          "output_type": "stream",
          "name": "stdout",
          "text": [
            "['karthick', 23456123, 9457896123, 'karthick@gmail.com', 'chennai', 'ifsc', 'branch', 'photo', 10000.5, True, 'name', 'name']\n"
          ]
        }
      ]
    },
    {
      "cell_type": "code",
      "source": [
        "person_detail[ 5 : ]"
      ],
      "metadata": {
        "colab": {
          "base_uri": "https://localhost:8080/"
        },
        "id": "vb0P8w98_MYO",
        "outputId": "d484b883-0042-4e22-a797-3de61f1b2e12"
      },
      "execution_count": null,
      "outputs": [
        {
          "output_type": "execute_result",
          "data": {
            "text/plain": [
              "['ifsc', 'branch', 'photo', 10000.5, True, 'name', 'name']"
            ]
          },
          "metadata": {},
          "execution_count": 29
        }
      ]
    },
    {
      "cell_type": "code",
      "source": [
        "person_detail[ : : 3 ]"
      ],
      "metadata": {
        "colab": {
          "base_uri": "https://localhost:8080/"
        },
        "id": "xfjJT9fb_TyO",
        "outputId": "6dd8702b-0a82-4309-c4b9-b4291ec7135e"
      },
      "execution_count": null,
      "outputs": [
        {
          "output_type": "execute_result",
          "data": {
            "text/plain": [
              "['karthick', 'karthick@gmail.com', 'branch', True]"
            ]
          },
          "metadata": {},
          "execution_count": 34
        }
      ]
    },
    {
      "cell_type": "code",
      "source": [
        "person_detail[ 1 : 11 : 3]"
      ],
      "metadata": {
        "colab": {
          "base_uri": "https://localhost:8080/"
        },
        "id": "8jn5-Yxf_ohQ",
        "outputId": "c46137ea-fb46-4117-e5ed-1d94ce68d7c1"
      },
      "execution_count": null,
      "outputs": [
        {
          "output_type": "execute_result",
          "data": {
            "text/plain": [
              "[23456123, 'chennai', 'photo', 'name']"
            ]
          },
          "metadata": {},
          "execution_count": 39
        }
      ]
    },
    {
      "cell_type": "markdown",
      "source": [
        "#Tuple - ( ) "
      ],
      "metadata": {
        "id": "sXCD_761CEff"
      }
    },
    {
      "cell_type": "markdown",
      "source": [
        "1. It accepts all data types\n",
        "2. tuple is ordered\n",
        "3. tuple elements accessed by using index position\n",
        "4. tuple does not support item assignment\n",
        "5. tuple supports nested tuples\n",
        "6. tuple can contain duplicates"
      ],
      "metadata": {
        "id": "G_YaCsxjCLXl"
      }
    },
    {
      "cell_type": "code",
      "source": [
        "adhar_detail = ( 'Ajith', '12/12/12', 'Male', 'Chennai', 'photo', 123456 , 600025, 77.5 , 178, False, 'Ajith','Male', 'Male1' )\n",
        "\n",
        "\n",
        "adhar = ( ( 'Ajith', '12/12/12', 'Male', 'Chennai', 'photo', 123456 , 600025, 77.5 , 178, False ) ,\n",
        "         ( 'Vijay', '12/12/12', 'Male', 'Chennai', 'photo', 123456 , 600025, 77.5 , 178, False ),\n",
        "         ( 'Surya', '12/12/12', 'Male', 'Chennai', 'photo', 123456 , 600025, 77.5 , 178, False ), [100,200,300] , {1,2,3} )"
      ],
      "metadata": {
        "id": "ry242a69A5rD"
      },
      "execution_count": null,
      "outputs": []
    },
    {
      "cell_type": "code",
      "source": [
        "adhar_detail[0:4]"
      ],
      "metadata": {
        "colab": {
          "base_uri": "https://localhost:8080/"
        },
        "id": "bA9lr_JJKAtd",
        "outputId": "2a887329-f06e-4fc0-8e75-ace4e005734d"
      },
      "execution_count": null,
      "outputs": [
        {
          "output_type": "execute_result",
          "data": {
            "text/plain": [
              "('Ajith', '12/12/12', 'Male', 'Chennai')"
            ]
          },
          "metadata": {},
          "execution_count": 7
        }
      ]
    },
    {
      "cell_type": "code",
      "source": [
        "name = 'Karthick'"
      ],
      "metadata": {
        "id": "xHyyOn_-L4DD"
      },
      "execution_count": null,
      "outputs": []
    },
    {
      "cell_type": "code",
      "source": [
        "name[ :  : -1 ].title()"
      ],
      "metadata": {
        "colab": {
          "base_uri": "https://localhost:8080/",
          "height": 35
        },
        "id": "CU0azDNDL3oE",
        "outputId": "3c85cb1d-feff-4a58-f6df-f831818ccd10"
      },
      "execution_count": null,
      "outputs": [
        {
          "output_type": "execute_result",
          "data": {
            "text/plain": [
              "'Kcihtrak'"
            ],
            "application/vnd.google.colaboratory.intrinsic+json": {
              "type": "string"
            }
          },
          "metadata": {},
          "execution_count": 21
        }
      ]
    },
    {
      "cell_type": "code",
      "source": [
        "adhar_detail[ 9 :  : -1]"
      ],
      "metadata": {
        "colab": {
          "base_uri": "https://localhost:8080/"
        },
        "id": "6qPMOwTqKLLx",
        "outputId": "c4feacdd-6529-45ef-ddd9-5593cdd50669"
      },
      "execution_count": null,
      "outputs": [
        {
          "output_type": "execute_result",
          "data": {
            "text/plain": [
              "(False,\n",
              " 178,\n",
              " 77.5,\n",
              " 600025,\n",
              " 123456,\n",
              " 'photo',\n",
              " 'Chennai',\n",
              " 'Male',\n",
              " '12/12/12',\n",
              " 'Ajith')"
            ]
          },
          "metadata": {},
          "execution_count": 13
        }
      ]
    },
    {
      "cell_type": "code",
      "source": [
        "adhar_detail[-1]"
      ],
      "metadata": {
        "colab": {
          "base_uri": "https://localhost:8080/",
          "height": 35
        },
        "id": "zaabORIeImNp",
        "outputId": "776b0495-f895-4b1b-96dd-0c5e05fd1a3a"
      },
      "execution_count": null,
      "outputs": [
        {
          "output_type": "execute_result",
          "data": {
            "text/plain": [
              "'Male1'"
            ],
            "application/vnd.google.colaboratory.intrinsic+json": {
              "type": "string"
            }
          },
          "metadata": {},
          "execution_count": 6
        }
      ]
    },
    {
      "cell_type": "code",
      "source": [
        "adhar[4][1]"
      ],
      "metadata": {
        "colab": {
          "base_uri": "https://localhost:8080/",
          "height": 167
        },
        "id": "ym9-MBy4KmSa",
        "outputId": "158868c1-2ac7-49c9-f57e-34e6102042f1"
      },
      "execution_count": null,
      "outputs": [
        {
          "output_type": "error",
          "ename": "TypeError",
          "evalue": "ignored",
          "traceback": [
            "\u001b[0;31m---------------------------------------------------------------------------\u001b[0m",
            "\u001b[0;31mTypeError\u001b[0m                                 Traceback (most recent call last)",
            "\u001b[0;32m<ipython-input-82-b60507d158ac>\u001b[0m in \u001b[0;36m<module>\u001b[0;34m\u001b[0m\n\u001b[0;32m----> 1\u001b[0;31m \u001b[0madhar\u001b[0m\u001b[0;34m[\u001b[0m\u001b[0;36m4\u001b[0m\u001b[0;34m]\u001b[0m\u001b[0;34m[\u001b[0m\u001b[0;36m1\u001b[0m\u001b[0;34m]\u001b[0m\u001b[0;34m\u001b[0m\u001b[0;34m\u001b[0m\u001b[0m\n\u001b[0m",
            "\u001b[0;31mTypeError\u001b[0m: 'set' object is not subscriptable"
          ]
        }
      ]
    },
    {
      "cell_type": "code",
      "source": [
        "print(adhar_detail)"
      ],
      "metadata": {
        "colab": {
          "base_uri": "https://localhost:8080/"
        },
        "id": "4I_m4_GtCvfy",
        "outputId": "37fe9d92-af23-40cb-ca9c-e9af5ed3096a"
      },
      "execution_count": null,
      "outputs": [
        {
          "output_type": "stream",
          "name": "stdout",
          "text": [
            "('Ajith', '12/12/12', 'Male', 'Chennai', 'photo', 123456, 600025, 77.5, 178, False, 'Ajith', 'Male', 'Male')\n"
          ]
        }
      ]
    },
    {
      "cell_type": "code",
      "source": [
        "adhar_detail[6]"
      ],
      "metadata": {
        "colab": {
          "base_uri": "https://localhost:8080/"
        },
        "id": "aeuten9jDF8_",
        "outputId": "96c5f687-a5d7-4dd3-dc05-872cfaf095eb"
      },
      "execution_count": null,
      "outputs": [
        {
          "output_type": "execute_result",
          "data": {
            "text/plain": [
              "600025"
            ]
          },
          "metadata": {},
          "execution_count": 44
        }
      ]
    },
    {
      "cell_type": "code",
      "source": [
        "adhar_detail[ 4 : 8 ]"
      ],
      "metadata": {
        "colab": {
          "base_uri": "https://localhost:8080/"
        },
        "id": "iuSCUMzwDYJH",
        "outputId": "98d42b1d-5dbf-4a37-f756-97776ba01767"
      },
      "execution_count": null,
      "outputs": [
        {
          "output_type": "execute_result",
          "data": {
            "text/plain": [
              "('photo', 123456, 600025, 77.5)"
            ]
          },
          "metadata": {},
          "execution_count": 46
        }
      ]
    },
    {
      "cell_type": "code",
      "source": [
        "adhar_detail[5] = 789456"
      ],
      "metadata": {
        "colab": {
          "base_uri": "https://localhost:8080/",
          "height": 167
        },
        "id": "ET2GChHgDieS",
        "outputId": "1d749081-7682-4b86-bcee-eb4f7d84da47"
      },
      "execution_count": null,
      "outputs": [
        {
          "output_type": "error",
          "ename": "TypeError",
          "evalue": "ignored",
          "traceback": [
            "\u001b[0;31m---------------------------------------------------------------------------\u001b[0m",
            "\u001b[0;31mTypeError\u001b[0m                                 Traceback (most recent call last)",
            "\u001b[0;32m<ipython-input-48-0243f95896ab>\u001b[0m in \u001b[0;36m<module>\u001b[0;34m\u001b[0m\n\u001b[0;32m----> 1\u001b[0;31m \u001b[0madhar_detail\u001b[0m\u001b[0;34m[\u001b[0m\u001b[0;36m5\u001b[0m\u001b[0;34m]\u001b[0m \u001b[0;34m=\u001b[0m \u001b[0;36m789456\u001b[0m\u001b[0;34m\u001b[0m\u001b[0;34m\u001b[0m\u001b[0m\n\u001b[0m",
            "\u001b[0;31mTypeError\u001b[0m: 'tuple' object does not support item assignment"
          ]
        }
      ]
    },
    {
      "cell_type": "code",
      "source": [
        "convert = list(adhar_detail)"
      ],
      "metadata": {
        "id": "VQjxvq9fGX2l"
      },
      "execution_count": null,
      "outputs": []
    },
    {
      "cell_type": "code",
      "source": [
        "convert[0] = 'Siva'"
      ],
      "metadata": {
        "id": "wTdrQsNuGs4k"
      },
      "execution_count": null,
      "outputs": []
    },
    {
      "cell_type": "code",
      "source": [
        "convert"
      ],
      "metadata": {
        "colab": {
          "base_uri": "https://localhost:8080/"
        },
        "id": "Xf-PN-eqG21k",
        "outputId": "e47b8123-147e-4756-85e2-ae87de1057b5"
      },
      "execution_count": null,
      "outputs": [
        {
          "output_type": "execute_result",
          "data": {
            "text/plain": [
              "['Siva',\n",
              " '12/12/12',\n",
              " 'Male',\n",
              " 'Chennai',\n",
              " 'photo',\n",
              " 123456,\n",
              " 600025,\n",
              " 77.5,\n",
              " 178,\n",
              " False,\n",
              " 'Ajith',\n",
              " 'Male',\n",
              " 'Male']"
            ]
          },
          "metadata": {},
          "execution_count": 61
        }
      ]
    },
    {
      "cell_type": "code",
      "source": [
        "adhar_detail = tuple(convert)"
      ],
      "metadata": {
        "id": "LsXmFTtoG45e"
      },
      "execution_count": null,
      "outputs": []
    },
    {
      "cell_type": "code",
      "source": [
        "adhar_detail"
      ],
      "metadata": {
        "colab": {
          "base_uri": "https://localhost:8080/"
        },
        "id": "H5Ew3qkaG99d",
        "outputId": "fc0ff943-fca7-438e-c4c0-59c34e138a8b"
      },
      "execution_count": null,
      "outputs": [
        {
          "output_type": "execute_result",
          "data": {
            "text/plain": [
              "('Siva',\n",
              " '12/12/12',\n",
              " 'Male',\n",
              " 'Chennai',\n",
              " 'photo',\n",
              " 123456,\n",
              " 600025,\n",
              " 77.5,\n",
              " 178,\n",
              " False,\n",
              " 'Ajith',\n",
              " 'Male',\n",
              " 'Male')"
            ]
          },
          "metadata": {},
          "execution_count": 67
        }
      ]
    },
    {
      "cell_type": "markdown",
      "source": [
        "#Set - { }\n",
        "\n",
        "1. Set can hold multiple datatypes\n",
        "2. Set is unordered\n",
        "3. Set values can not be accessed by index values\n",
        "4. Set does not support item assignment\n",
        "5. Set does not support nested set or data structures\n",
        "6. Set does not hold duplicates"
      ],
      "metadata": {
        "id": "DmRAaFApGH9V"
      }
    },
    {
      "cell_type": "code",
      "source": [
        "company_employee = { 'Priya', 1012, 145632, 50000.75, True , 'Priya',1012,'Priya'}\n",
        "\n",
        "#company = { 2, [1,2,3] }"
      ],
      "metadata": {
        "id": "1_-i-JWEEBl8"
      },
      "execution_count": null,
      "outputs": []
    },
    {
      "cell_type": "code",
      "source": [
        "print(company_employee)"
      ],
      "metadata": {
        "colab": {
          "base_uri": "https://localhost:8080/"
        },
        "id": "FtRAHqqEIW5g",
        "outputId": "0d3da587-ebb1-4cb2-f15e-a87089c6e815"
      },
      "execution_count": null,
      "outputs": [
        {
          "output_type": "stream",
          "name": "stdout",
          "text": [
            "{145632, True, 50000.75, 1012, 'Priya'}\n"
          ]
        }
      ]
    },
    {
      "cell_type": "code",
      "source": [
        "print(company_employee)"
      ],
      "metadata": {
        "colab": {
          "base_uri": "https://localhost:8080/"
        },
        "id": "qKapB4BVImD1",
        "outputId": "73d8efc3-c8ab-4882-e344-dba35e6e822f"
      },
      "execution_count": null,
      "outputs": [
        {
          "output_type": "stream",
          "name": "stdout",
          "text": [
            "{145632, True, 50000.75, 1012, 'Priya'}\n"
          ]
        }
      ]
    },
    {
      "cell_type": "code",
      "source": [
        "company_employee[1]"
      ],
      "metadata": {
        "colab": {
          "base_uri": "https://localhost:8080/",
          "height": 167
        },
        "id": "Sg7l9EJ3Ittl",
        "outputId": "7649f692-9d38-496a-96ce-2904965e8b1c"
      },
      "execution_count": null,
      "outputs": [
        {
          "output_type": "error",
          "ename": "TypeError",
          "evalue": "ignored",
          "traceback": [
            "\u001b[0;31m---------------------------------------------------------------------------\u001b[0m",
            "\u001b[0;31mTypeError\u001b[0m                                 Traceback (most recent call last)",
            "\u001b[0;32m<ipython-input-72-7de020791b11>\u001b[0m in \u001b[0;36m<module>\u001b[0;34m\u001b[0m\n\u001b[0;32m----> 1\u001b[0;31m \u001b[0mcompany_employee\u001b[0m\u001b[0;34m[\u001b[0m\u001b[0;36m1\u001b[0m\u001b[0;34m]\u001b[0m\u001b[0;34m\u001b[0m\u001b[0;34m\u001b[0m\u001b[0m\n\u001b[0m",
            "\u001b[0;31mTypeError\u001b[0m: 'set' object is not subscriptable"
          ]
        }
      ]
    },
    {
      "cell_type": "code",
      "source": [
        "company_employee[1] = 1013"
      ],
      "metadata": {
        "colab": {
          "base_uri": "https://localhost:8080/",
          "height": 167
        },
        "id": "WwNblLz1I-oc",
        "outputId": "5c0c1695-a256-4518-e4c7-76a083f14959"
      },
      "execution_count": null,
      "outputs": [
        {
          "output_type": "error",
          "ename": "TypeError",
          "evalue": "ignored",
          "traceback": [
            "\u001b[0;31m---------------------------------------------------------------------------\u001b[0m",
            "\u001b[0;31mTypeError\u001b[0m                                 Traceback (most recent call last)",
            "\u001b[0;32m<ipython-input-73-38578c23e4e2>\u001b[0m in \u001b[0;36m<module>\u001b[0;34m\u001b[0m\n\u001b[0;32m----> 1\u001b[0;31m \u001b[0mcompany_employee\u001b[0m\u001b[0;34m[\u001b[0m\u001b[0;36m1\u001b[0m\u001b[0;34m]\u001b[0m \u001b[0;34m=\u001b[0m \u001b[0;36m1013\u001b[0m\u001b[0;34m\u001b[0m\u001b[0;34m\u001b[0m\u001b[0m\n\u001b[0m",
            "\u001b[0;31mTypeError\u001b[0m: 'set' object does not support item assignment"
          ]
        }
      ]
    },
    {
      "cell_type": "code",
      "source": [
        "list(company_employee)"
      ],
      "metadata": {
        "colab": {
          "base_uri": "https://localhost:8080/"
        },
        "id": "BHdaxznRMSoH",
        "outputId": "a8ed7ae0-fa0c-4705-9611-b03eacae1b5c"
      },
      "execution_count": null,
      "outputs": [
        {
          "output_type": "execute_result",
          "data": {
            "text/plain": [
              "[145632, True, 50000.75, 1012, 'Priya']"
            ]
          },
          "metadata": {},
          "execution_count": 87
        }
      ]
    },
    {
      "cell_type": "markdown",
      "source": [
        "#Dictionary - { 'key' : 'value' }\n",
        "\n",
        "1. dict can hold multiple datatypes\n",
        "2. it is ordered\n",
        "3. dict values accessed by using keys\n",
        "4. dict supports item or value assignments\n",
        "5. dict supports nested dict or datastructures\n",
        "6. dict does not hold duplicate keys"
      ],
      "metadata": {
        "id": "cn09HLl4NNjR"
      }
    },
    {
      "cell_type": "code",
      "source": [
        "person = { 'name':'hari', 'age': 25 , 'dept':'Data Science', 75.5 : 'Weight' }\n",
        "\n",
        "persons = {'details': { 'name':'hari', 'age': 25 , 'dept':'Data Science', 75.5 : 'Weight' } }\n",
        "\n",
        "employees = {'names' : ['karthik','jhon','saif','vennila','ram'], 'age' : { 12,34,56,45} , 'names' : 'priya', \n",
        "             'Names' : 'priya', 'first':'priya', 'Names': 'harika' }"
      ],
      "metadata": {
        "id": "AMbZZJ3JMVWy"
      },
      "execution_count": null,
      "outputs": []
    },
    {
      "cell_type": "code",
      "source": [
        "employees"
      ],
      "metadata": {
        "colab": {
          "base_uri": "https://localhost:8080/"
        },
        "id": "VrETcuCTVGHU",
        "outputId": "f5e7632f-bc55-43f6-e622-c2e5203b22da"
      },
      "execution_count": null,
      "outputs": [
        {
          "output_type": "execute_result",
          "data": {
            "text/plain": [
              "{'names': 'priya',\n",
              " 'age': {12, 34, 45, 56},\n",
              " 'Names': 'harika',\n",
              " 'first': 'priya'}"
            ]
          },
          "metadata": {},
          "execution_count": 111
        }
      ]
    },
    {
      "cell_type": "code",
      "source": [
        "employees['Names']"
      ],
      "metadata": {
        "colab": {
          "base_uri": "https://localhost:8080/",
          "height": 35
        },
        "id": "odPGuf8sVeWE",
        "outputId": "36bcf06f-3f46-4d90-d7d6-b215f5893ab1"
      },
      "execution_count": null,
      "outputs": [
        {
          "output_type": "execute_result",
          "data": {
            "text/plain": [
              "'harika'"
            ],
            "application/vnd.google.colaboratory.intrinsic+json": {
              "type": "string"
            }
          },
          "metadata": {},
          "execution_count": 110
        }
      ]
    },
    {
      "cell_type": "code",
      "source": [
        "employees['first']"
      ],
      "metadata": {
        "colab": {
          "base_uri": "https://localhost:8080/",
          "height": 35
        },
        "id": "wmbX-rxtV3--",
        "outputId": "8cd54373-8c70-400f-915c-3fcc267a7453"
      },
      "execution_count": null,
      "outputs": [
        {
          "output_type": "execute_result",
          "data": {
            "text/plain": [
              "'priya'"
            ],
            "application/vnd.google.colaboratory.intrinsic+json": {
              "type": "string"
            }
          },
          "metadata": {},
          "execution_count": 108
        }
      ]
    },
    {
      "cell_type": "code",
      "source": [
        "print(person)"
      ],
      "metadata": {
        "colab": {
          "base_uri": "https://localhost:8080/"
        },
        "id": "lb5fK_TkP3nk",
        "outputId": "e2979550-eaea-443b-d13e-f42f986b4d87"
      },
      "execution_count": null,
      "outputs": [
        {
          "output_type": "stream",
          "name": "stdout",
          "text": [
            "{'name': 'hari', 'age': 25, 'dept': 'Data Science', 75.5: 'Weight'}\n"
          ]
        }
      ]
    },
    {
      "cell_type": "code",
      "source": [
        "person['name']"
      ],
      "metadata": {
        "colab": {
          "base_uri": "https://localhost:8080/",
          "height": 35
        },
        "id": "KZbZktdSQFg9",
        "outputId": "5068bd81-9ff5-420f-af49-6457d6da0000"
      },
      "execution_count": null,
      "outputs": [
        {
          "output_type": "execute_result",
          "data": {
            "text/plain": [
              "'hari'"
            ],
            "application/vnd.google.colaboratory.intrinsic+json": {
              "type": "string"
            }
          },
          "metadata": {},
          "execution_count": 91
        }
      ]
    },
    {
      "cell_type": "code",
      "source": [
        "person[75.5]"
      ],
      "metadata": {
        "colab": {
          "base_uri": "https://localhost:8080/",
          "height": 35
        },
        "id": "QK-fB0hbQkD2",
        "outputId": "a6140ba6-aea2-46a8-c3e2-7ff592f4be9b"
      },
      "execution_count": null,
      "outputs": [
        {
          "output_type": "execute_result",
          "data": {
            "text/plain": [
              "'Weight'"
            ],
            "application/vnd.google.colaboratory.intrinsic+json": {
              "type": "string"
            }
          },
          "metadata": {},
          "execution_count": 93
        }
      ]
    },
    {
      "cell_type": "code",
      "source": [
        "person['Weight']"
      ],
      "metadata": {
        "colab": {
          "base_uri": "https://localhost:8080/",
          "height": 167
        },
        "id": "DG04SJnBQysN",
        "outputId": "d05e18e9-32c5-4af0-a0a1-a2f17a8aee02"
      },
      "execution_count": null,
      "outputs": [
        {
          "output_type": "error",
          "ename": "KeyError",
          "evalue": "ignored",
          "traceback": [
            "\u001b[0;31m---------------------------------------------------------------------------\u001b[0m",
            "\u001b[0;31mKeyError\u001b[0m                                  Traceback (most recent call last)",
            "\u001b[0;32m<ipython-input-94-4d2959547cd5>\u001b[0m in \u001b[0;36m<module>\u001b[0;34m\u001b[0m\n\u001b[0;32m----> 1\u001b[0;31m \u001b[0mperson\u001b[0m\u001b[0;34m[\u001b[0m\u001b[0;34m'Weight'\u001b[0m\u001b[0;34m]\u001b[0m\u001b[0;34m\u001b[0m\u001b[0;34m\u001b[0m\u001b[0m\n\u001b[0m",
            "\u001b[0;31mKeyError\u001b[0m: 'Weight'"
          ]
        }
      ]
    },
    {
      "cell_type": "code",
      "source": [
        "person['age'] = 26"
      ],
      "metadata": {
        "id": "_6R0rpTgQ_Sg"
      },
      "execution_count": null,
      "outputs": []
    },
    {
      "cell_type": "code",
      "source": [
        "print(person)"
      ],
      "metadata": {
        "colab": {
          "base_uri": "https://localhost:8080/"
        },
        "id": "AqDhTuuuRVRD",
        "outputId": "a42d02c4-04b7-4fc1-db5f-2a67371ce388"
      },
      "execution_count": null,
      "outputs": [
        {
          "output_type": "stream",
          "name": "stdout",
          "text": [
            "{'name': 'hari', 'age': 26, 'dept': 'Data Science', 75.5: 'Weight'}\n"
          ]
        }
      ]
    },
    {
      "cell_type": "markdown",
      "source": [
        "#ARITHMATIC OPERATORS"
      ],
      "metadata": {
        "id": "EFcapGUdN11L"
      }
    },
    {
      "cell_type": "code",
      "source": [
        "#arithmatic operations\n",
        "\n",
        "# add - (+)\n",
        "#sub - (-)\n",
        "#multi - (*)\n",
        "#power - (**)\n",
        "#div - (/)\n",
        "#modulo - % - GIVES REMAINDER\n",
        "#floor division - // - QOUTIENT\n",
        "10/2\n"
      ],
      "metadata": {
        "id": "nkgffhMrRX7l",
        "colab": {
          "base_uri": "https://localhost:8080/"
        },
        "outputId": "b4cefd86-308d-4d76-dfbe-0be9c122232d"
      },
      "execution_count": null,
      "outputs": [
        {
          "output_type": "execute_result",
          "data": {
            "text/plain": [
              "5.0"
            ]
          },
          "metadata": {},
          "execution_count": 28
        }
      ]
    },
    {
      "cell_type": "code",
      "source": [
        "11%2"
      ],
      "metadata": {
        "colab": {
          "base_uri": "https://localhost:8080/"
        },
        "id": "JEejIDPvMlmz",
        "outputId": "3106b88b-51aa-4c99-d4f4-b1d855ee55bf"
      },
      "execution_count": null,
      "outputs": [
        {
          "output_type": "execute_result",
          "data": {
            "text/plain": [
              "1"
            ]
          },
          "metadata": {},
          "execution_count": 30
        }
      ]
    },
    {
      "cell_type": "code",
      "source": [
        "11//2"
      ],
      "metadata": {
        "colab": {
          "base_uri": "https://localhost:8080/"
        },
        "id": "0Sk7COpmNKDA",
        "outputId": "0f59244a-3843-4ba9-d5ef-fee7711180b5"
      },
      "execution_count": null,
      "outputs": [
        {
          "output_type": "execute_result",
          "data": {
            "text/plain": [
              "5"
            ]
          },
          "metadata": {},
          "execution_count": 32
        }
      ]
    },
    {
      "cell_type": "code",
      "source": [
        "23//7"
      ],
      "metadata": {
        "colab": {
          "base_uri": "https://localhost:8080/"
        },
        "id": "WyRDq2WCNclO",
        "outputId": "d03142b1-b198-49b0-90f2-9419723216d7"
      },
      "execution_count": null,
      "outputs": [
        {
          "output_type": "execute_result",
          "data": {
            "text/plain": [
              "3"
            ]
          },
          "metadata": {},
          "execution_count": 36
        }
      ]
    },
    {
      "cell_type": "markdown",
      "source": [
        "#CONDITIONAL or COMPARISION OPERATORS"
      ],
      "metadata": {
        "id": "1BYHRiTFN5b4"
      }
    },
    {
      "cell_type": "code",
      "source": [
        "5 != 6"
      ],
      "metadata": {
        "colab": {
          "base_uri": "https://localhost:8080/"
        },
        "id": "dUiDnhA6NolQ",
        "outputId": "c30b86c0-c737-4c4b-ef6a-6c6ce5a0be75"
      },
      "execution_count": null,
      "outputs": [
        {
          "output_type": "execute_result",
          "data": {
            "text/plain": [
              "True"
            ]
          },
          "metadata": {},
          "execution_count": 39
        }
      ]
    },
    {
      "cell_type": "code",
      "source": [
        "5 < 4"
      ],
      "metadata": {
        "colab": {
          "base_uri": "https://localhost:8080/"
        },
        "id": "-NctJpELOMuJ",
        "outputId": "43c54925-01e2-4363-d146-f90dae4896fe"
      },
      "execution_count": null,
      "outputs": [
        {
          "output_type": "execute_result",
          "data": {
            "text/plain": [
              "False"
            ]
          },
          "metadata": {},
          "execution_count": 41
        }
      ]
    },
    {
      "cell_type": "code",
      "source": [
        "5 <= 5"
      ],
      "metadata": {
        "colab": {
          "base_uri": "https://localhost:8080/"
        },
        "id": "yfdR5TlZOgNd",
        "outputId": "1cf3bfbc-d0dc-46c9-ef36-611d916a828a"
      },
      "execution_count": null,
      "outputs": [
        {
          "output_type": "execute_result",
          "data": {
            "text/plain": [
              "True"
            ]
          },
          "metadata": {},
          "execution_count": 46
        }
      ]
    },
    {
      "cell_type": "markdown",
      "source": [
        "#CONDITIONAL STATEMENTS"
      ],
      "metadata": {
        "id": "4r7gvxDkO4Qv"
      }
    },
    {
      "cell_type": "code",
      "source": [
        "#IF - ELSE STATEMENTS\n",
        "\n",
        "#WASHING MACHINE - YES/NO\n",
        "\n",
        "#1. - BUY WASHING MACHINE - WASHING CLOTHES\n",
        "#2. LAUNDRY\n",
        "#3. IN HOUSE\n",
        "#NO - SAVING MONEY/ \n",
        "\n",
        "\n",
        "status = 'yes'\n",
        "\n",
        "if True :\n",
        "\n",
        "  print('washing clothes')\n",
        "\n",
        "else: \n",
        "  \n",
        "  print('Give cloths laundry')\n",
        "\n",
        "\n"
      ],
      "metadata": {
        "colab": {
          "base_uri": "https://localhost:8080/"
        },
        "id": "iy7fnJNjOsCn",
        "outputId": "f0266514-4dd3-43b7-d284-02aff956fcab"
      },
      "execution_count": null,
      "outputs": [
        {
          "output_type": "stream",
          "name": "stdout",
          "text": [
            "washing clothes\n"
          ]
        }
      ]
    },
    {
      "cell_type": "code",
      "source": [
        "\n",
        "#1. - BUY WASHING MACHINE - WASHING CLOTHES\n",
        "#2. LAUNDRY\n",
        "#3. IN HOUSE\n",
        "#NO - SAVING MONEY/ \n",
        "\n",
        "#USER INPUT 1,2,3\n",
        "\n",
        "User_Pref = int(input())\n",
        "\n",
        "method = input()\n",
        "\n",
        "variety = input()\n",
        "\n",
        "if User_Pref == 3 and method == 'Dry' :\n",
        "  print('Buy An washing machine')\n",
        "\n",
        "  if variety == 'cotton':\n",
        "    print('iron the shirt')\n",
        "  else:\n",
        "    print('Need not iron')\n",
        "\n",
        "elif User_Pref == 2 or method == 'Wet':\n",
        "  print('Give clothes to laundry')\n",
        "\n",
        "elif User_Pref == 4:\n",
        "  print('Wash cloths in-house')\n",
        "\n",
        "else:\n",
        "  print('Select correct option')\n",
        "\n"
      ],
      "metadata": {
        "colab": {
          "base_uri": "https://localhost:8080/"
        },
        "id": "82jsImOQSWP5",
        "outputId": "3d195ab8-7bc8-47e7-9915-eb77e2930c1f"
      },
      "execution_count": null,
      "outputs": [
        {
          "output_type": "stream",
          "name": "stdout",
          "text": [
            "3\n",
            "Dry\n",
            "polyester\n",
            "Buy An washing machine\n",
            "Need not iron\n"
          ]
        }
      ]
    },
    {
      "cell_type": "code",
      "source": [
        "10 > 5 and 100 > 200"
      ],
      "metadata": {
        "colab": {
          "base_uri": "https://localhost:8080/"
        },
        "id": "C8kei7_8WOBc",
        "outputId": "bc9b2d98-d7a7-4c8a-ebe8-2305d1cda018"
      },
      "execution_count": null,
      "outputs": [
        {
          "output_type": "execute_result",
          "data": {
            "text/plain": [
              "False"
            ]
          },
          "metadata": {},
          "execution_count": 82
        }
      ]
    },
    {
      "cell_type": "code",
      "source": [
        "False or False"
      ],
      "metadata": {
        "colab": {
          "base_uri": "https://localhost:8080/"
        },
        "id": "5ivJqCRNWfK0",
        "outputId": "04f0c413-8af6-407e-ef1c-61fa6efc7d21"
      },
      "execution_count": null,
      "outputs": [
        {
          "output_type": "execute_result",
          "data": {
            "text/plain": [
              "False"
            ]
          },
          "metadata": {},
          "execution_count": 88
        }
      ]
    },
    {
      "cell_type": "code",
      "source": [
        "status == 'no'"
      ],
      "metadata": {
        "colab": {
          "base_uri": "https://localhost:8080/"
        },
        "id": "4sLyDz2RQHTI",
        "outputId": "3d105638-619a-407e-c431-091fa88c4a54"
      },
      "execution_count": null,
      "outputs": [
        {
          "output_type": "execute_result",
          "data": {
            "text/plain": [
              "True"
            ]
          },
          "metadata": {},
          "execution_count": 51
        }
      ]
    },
    {
      "cell_type": "code",
      "source": [
        "NAME = 5"
      ],
      "metadata": {
        "id": "Y4lcn1HdQxV7"
      },
      "execution_count": null,
      "outputs": []
    },
    {
      "cell_type": "code",
      "source": [
        "NAME == 6"
      ],
      "metadata": {
        "colab": {
          "base_uri": "https://localhost:8080/"
        },
        "id": "PcnkGTb0RaEk",
        "outputId": "59ac9dbd-0627-4537-a862-1066ba925a20"
      },
      "execution_count": null,
      "outputs": [
        {
          "output_type": "execute_result",
          "data": {
            "text/plain": [
              "False"
            ]
          },
          "metadata": {},
          "execution_count": 57
        }
      ]
    },
    {
      "cell_type": "markdown",
      "source": [
        "#LOOPS\n",
        "\n",
        "1. FOR\n",
        "2. WHILE"
      ],
      "metadata": {
        "id": "K6JobVhIYF_m"
      }
    },
    {
      "cell_type": "code",
      "source": [
        "print(1)\n",
        "print(2)\n",
        "print(3)\n",
        "print(4)\n",
        "print(5)"
      ],
      "metadata": {
        "colab": {
          "base_uri": "https://localhost:8080/"
        },
        "id": "F4xrYBkdRhKY",
        "outputId": "946b0aa2-2c61-4c68-faa9-197e217376d7"
      },
      "execution_count": null,
      "outputs": [
        {
          "output_type": "stream",
          "name": "stdout",
          "text": [
            "1\n",
            "2\n",
            "3\n",
            "4\n",
            "5\n"
          ]
        }
      ]
    },
    {
      "cell_type": "code",
      "source": [
        "# 1 - 10\n",
        "\n",
        "for i in range(2,11,2):\n",
        "  print(i)"
      ],
      "metadata": {
        "colab": {
          "base_uri": "https://localhost:8080/"
        },
        "id": "mMDIJ4GUYloK",
        "outputId": "3bd74731-ab0f-44a9-b707-770babef766a"
      },
      "execution_count": null,
      "outputs": [
        {
          "output_type": "stream",
          "name": "stdout",
          "text": [
            "2\n",
            "4\n",
            "6\n",
            "8\n",
            "10\n"
          ]
        }
      ]
    },
    {
      "cell_type": "code",
      "source": [
        "4%3 != 0"
      ],
      "metadata": {
        "colab": {
          "base_uri": "https://localhost:8080/"
        },
        "id": "Iz8IIaNtboDB",
        "outputId": "909b07ae-7ef6-46b3-de5b-d5ff4f8bae7f"
      },
      "execution_count": null,
      "outputs": [
        {
          "output_type": "execute_result",
          "data": {
            "text/plain": [
              "True"
            ]
          },
          "metadata": {},
          "execution_count": 107
        }
      ]
    },
    {
      "cell_type": "code",
      "source": [
        "for i in range(1,21):\n",
        "  if i%3 != 0:\n",
        "    print(i)"
      ],
      "metadata": {
        "colab": {
          "base_uri": "https://localhost:8080/"
        },
        "id": "iQ2Wx5afZc4H",
        "outputId": "8131a4d5-675f-4cc3-ca1d-b69a7a3c4471"
      },
      "execution_count": null,
      "outputs": [
        {
          "output_type": "stream",
          "name": "stdout",
          "text": [
            "1\n",
            "2\n",
            "4\n",
            "5\n",
            "7\n",
            "8\n",
            "10\n",
            "11\n",
            "13\n",
            "14\n",
            "16\n",
            "17\n",
            "19\n",
            "20\n"
          ]
        }
      ]
    },
    {
      "cell_type": "code",
      "source": [
        "sentence = 'Guvi Geek'\n",
        "\n",
        "sentence[0]"
      ],
      "metadata": {
        "colab": {
          "base_uri": "https://localhost:8080/",
          "height": 35
        },
        "id": "KdwJyZ7Uaev6",
        "outputId": "cf82940f-7ece-4a0c-fdb1-f3a4aa33b16f"
      },
      "execution_count": null,
      "outputs": [
        {
          "output_type": "execute_result",
          "data": {
            "text/plain": [
              "'G'"
            ],
            "application/vnd.google.colaboratory.intrinsic+json": {
              "type": "string"
            }
          },
          "metadata": {},
          "execution_count": 109
        }
      ]
    },
    {
      "cell_type": "code",
      "source": [
        "#join() - will work only on strings\n",
        "\n",
        "print('  '.join(sentence))"
      ],
      "metadata": {
        "colab": {
          "base_uri": "https://localhost:8080/"
        },
        "id": "1RKcmsilc3Ml",
        "outputId": "9085de1d-c3e9-478f-e782-148992cad417"
      },
      "execution_count": null,
      "outputs": [
        {
          "output_type": "stream",
          "name": "stdout",
          "text": [
            "G  u  v  i     G  e  e  k\n"
          ]
        }
      ]
    },
    {
      "cell_type": "code",
      "source": [
        "print(*sentence)"
      ],
      "metadata": {
        "colab": {
          "base_uri": "https://localhost:8080/"
        },
        "id": "vKIm3nwhccpz",
        "outputId": "6aab9f37-5c47-4e3b-9164-eea2b1b8d96c"
      },
      "execution_count": null,
      "outputs": [
        {
          "output_type": "stream",
          "name": "stdout",
          "text": [
            "G u v i   G e e k\n"
          ]
        }
      ]
    },
    {
      "cell_type": "code",
      "source": [
        "for i in sentence:\n",
        "  print(i)"
      ],
      "metadata": {
        "colab": {
          "base_uri": "https://localhost:8080/"
        },
        "id": "R-I5ZwoYcHwf",
        "outputId": "6f453dc3-6cbf-418d-c521-9353b5a31623"
      },
      "execution_count": null,
      "outputs": [
        {
          "output_type": "stream",
          "name": "stdout",
          "text": [
            "G\n",
            "u\n",
            "v\n",
            "i\n",
            " \n",
            "G\n",
            "e\n",
            "e\n",
            "k\n"
          ]
        }
      ]
    },
    {
      "cell_type": "markdown",
      "source": [
        "#while loop"
      ],
      "metadata": {
        "id": "tshmyRHudV3n"
      }
    },
    {
      "cell_type": "code",
      "source": [
        "6//2 != 3"
      ],
      "metadata": {
        "colab": {
          "base_uri": "https://localhost:8080/"
        },
        "id": "trB2yv57gLyT",
        "outputId": "d9f3c9f2-f607-434a-cdbf-8fc5310331fe"
      },
      "execution_count": null,
      "outputs": [
        {
          "output_type": "execute_result",
          "data": {
            "text/plain": [
              "False"
            ]
          },
          "metadata": {},
          "execution_count": 123
        }
      ]
    },
    {
      "cell_type": "code",
      "source": [
        "i = 1\n",
        "\n",
        "while i//2 != 3 :\n",
        "  i = i + 1\n",
        "  print(i)"
      ],
      "metadata": {
        "colab": {
          "base_uri": "https://localhost:8080/"
        },
        "id": "r-FgRxwpcR4O",
        "outputId": "363403d6-93a2-4dc2-a4bc-9589b157d27d"
      },
      "execution_count": null,
      "outputs": [
        {
          "output_type": "stream",
          "name": "stdout",
          "text": [
            "2\n",
            "3\n",
            "4\n",
            "5\n",
            "6\n"
          ]
        }
      ]
    },
    {
      "cell_type": "code",
      "source": [
        "for i in range(1,21):\n",
        "  print(i)\n",
        "\n",
        "  if i == 10:\n",
        "    print('broken')\n",
        "    break\n"
      ],
      "metadata": {
        "colab": {
          "base_uri": "https://localhost:8080/"
        },
        "id": "wPHw93jjdurr",
        "outputId": "2cde9529-9524-49f8-a26b-94392e2c10e5"
      },
      "execution_count": null,
      "outputs": [
        {
          "output_type": "stream",
          "name": "stdout",
          "text": [
            "1\n",
            "2\n",
            "3\n",
            "4\n",
            "5\n",
            "6\n",
            "7\n",
            "8\n",
            "9\n",
            "10\n",
            "broken\n"
          ]
        }
      ]
    },
    {
      "cell_type": "code",
      "source": [
        "pers = ('Ajith', '12/12/12', 'Male', 'Chennai', 'photo', 123456, 600025, 77.5, 178, False, 'Ajith', 'Male', 'Male1')"
      ],
      "metadata": {
        "id": "b4NoiVujfqVI"
      },
      "execution_count": null,
      "outputs": []
    },
    {
      "cell_type": "code",
      "source": [
        "pers[len(pers)-1]"
      ],
      "metadata": {
        "colab": {
          "base_uri": "https://localhost:8080/",
          "height": 35
        },
        "id": "j5dGFq0diJMO",
        "outputId": "697981d9-0959-452c-8aa0-f995564c5003"
      },
      "execution_count": null,
      "outputs": [
        {
          "output_type": "execute_result",
          "data": {
            "text/plain": [
              "'Male1'"
            ],
            "application/vnd.google.colaboratory.intrinsic+json": {
              "type": "string"
            }
          },
          "metadata": {},
          "execution_count": 134
        }
      ]
    },
    {
      "cell_type": "code",
      "source": [
        "pers[-1]"
      ],
      "metadata": {
        "colab": {
          "base_uri": "https://localhost:8080/",
          "height": 35
        },
        "id": "NVmre45OiLcl",
        "outputId": "ddc05277-02af-4f32-d045-0c9043b91c2b"
      },
      "execution_count": null,
      "outputs": [
        {
          "output_type": "execute_result",
          "data": {
            "text/plain": [
              "'Male1'"
            ],
            "application/vnd.google.colaboratory.intrinsic+json": {
              "type": "string"
            }
          },
          "metadata": {},
          "execution_count": 135
        }
      ]
    },
    {
      "cell_type": "code",
      "source": [
        "day31 = [1,3,5,7,8,10,12]\n",
        "\n",
        "month = int(input())\n",
        "\n",
        "\n",
        "if month in day31:\n",
        "  print(31)\n",
        "\n",
        "else:\n",
        "  print('less than 31')"
      ],
      "metadata": {
        "colab": {
          "base_uri": "https://localhost:8080/"
        },
        "id": "htwb1PUgiTcY",
        "outputId": "6b02466a-f5e1-4a41-af4a-1075774c9fa4"
      },
      "execution_count": null,
      "outputs": [
        {
          "output_type": "stream",
          "name": "stdout",
          "text": [
            "3\n",
            "31\n"
          ]
        }
      ]
    },
    {
      "cell_type": "code",
      "source": [
        "2 in range(1,10)"
      ],
      "metadata": {
        "colab": {
          "base_uri": "https://localhost:8080/"
        },
        "id": "lzhbi7tGjISy",
        "outputId": "3b95651b-4a49-4296-f891-813be8a191ed"
      },
      "execution_count": null,
      "outputs": [
        {
          "output_type": "execute_result",
          "data": {
            "text/plain": [
              "True"
            ]
          },
          "metadata": {},
          "execution_count": 140
        }
      ]
    },
    {
      "cell_type": "code",
      "source": [],
      "metadata": {
        "id": "OKp33vxhjObL"
      },
      "execution_count": null,
      "outputs": []
    }
  ]
}